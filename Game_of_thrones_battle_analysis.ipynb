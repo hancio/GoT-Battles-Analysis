{
 "cells": [
  {
   "cell_type": "markdown",
   "metadata": {
    "nbpresent": {
     "id": "80f112cf-0e1c-462c-905a-8ebd0c8cc318"
    }
   },
   "source": [
    "# Data Analysis of the “War of the Five Kings” - Game of Thrones\n",
    "\n",
    "\n",
    "## Before It Starts\n",
    "\n",
    "This is my first project of data analysis, and it is wriiten by Jupyter notebook. The project is adopted from Data Analyst (Advance) Nanodegree program from Udacity. The dataset is adopted from Myles O'Neill from Kaggle. I am not a fan of Game of Thrones (even never watched). All conclusions are based on given dataset, which may not be accurate. Anyone who wants to use my code or conclusion persoanlly must refer to the source.\n",
    "\n",
    "\n",
    "## Introduction\n",
    "\n",
    "The War of the Five Kings is a famous civil war described in the well-known serious fantasy novel “Game of Thrones”. This is a civil strife with an unprecedented scale that involves seven kingdoms. As the name implies, a total of five persons claim to be the king during the war: Joffrey Baratheon, Stannis Baratheon and Renly Baratheon all claim to be the rightful heir of the iron throne. Moreover, Robb Stark is elected by the barons of the northern border to the King in the North, and Balon Greyjoy erects the flag of independence again and claims to be the King of the Iron Islands, in an attempt to shake off the ruling of the Iron Throne. \n",
    "\n",
    "\n",
    "This dataset (battles.csv) contains all the battles during the War of the Five Kings. It is part of the [Game of Thrones](https://www.kaggle.com/mylesoneill/game-of-thrones) in Kaggle. \n",
    "\n",
    "\n",
    "Variables in the dataset and meanings:\n",
    "\n",
    "\n",
    "- **name:** String variable. The name of the battle.\n",
    "- **year:** Numeric variable. The year of the battle.\n",
    "- **battle_number:** Numeric variable. A unique ID number for the battle.\n",
    "- **attacker_king:** Categorical. The attacker's king. A slash indicators that the king charges over the course of the war. For example, \"Joffrey/Tommen Baratheon\" is coded as such because one king follows the other in the Iron Throne.\n",
    "- **defender_king:** Categorical variable. The defender's king.\n",
    "- **attacker_1:** String variable. Major house attacking.\n",
    "- **attacker_2:** String variable. Major house attacking.\n",
    "- **attacker_3:** String variable. Major house attacking.\n",
    "- **attacker_4:** String variable. Major house attacking.\n",
    "- **defender_1:** String variable. Major house defending.\n",
    "- **defender_2:** String variable. Major house defending.\n",
    "- **defender_3:** String variable. Major house defending.\n",
    "- **defender_4:** String variable. Major house defending.\n",
    "- **attacker_outcome:** Categorical variable. The outcome from the perspective of the attacker. Categories: win, loss, draw.\n",
    "- **battle_type:** Categorical variable. A classification of the battle's primary type. Categories:\n",
    "    - pitched\\_battle: Armies meet in a location and fight. This is also the baseline category.\n",
    "    - ambush: A battle where stealth or subterfuge was the primary means of attack.\n",
    "    - siege: A prolonged of a fortied position.\n",
    "    - razing: An attack against an undefended position\n",
    "- **major_death:** Binary variable. If there was a death of a major figure during the battle.\n",
    "- **major_capture:** Binary variable. If there was the capture of the major figure during the battle.\n",
    "- **attacker_size:** Numeric variable. The size of the attacker's force. No distinction is made between the types of soldiers such as cavalry and footmen.\n",
    "- **defender_size:** Numeric variable. The size of the defenders's force. No distinction is made between the types of soldiers such as cavalry and footmen.\n",
    "- **attacker_commander:** String variable. Major commanders of the attackers. Commander's names are included without honoric titles and commandders are seperated by commas.\n",
    "- **defender_commander:** String variable. Major commanders of the defener. Commander's names are included without honoric titles and commandders are seperated by commas.\n",
    "- **summer:** Binary variable. Was it summer?\n",
    "- **location:** String variable. The location of the battle.\n",
    "- **region:** Categorical variable. The region where the battle takes place. Categories: Beyond the Wall, The North, The Iron Islands, The Riverlands, The Vale of Arryn, The Westerlands, The Crownlands, The Reach, The Stormlands, Dorne\n",
    "- **note:** String variable. Coding notes regarding individual observations.. \n"
   ]
  },
  {
   "cell_type": "markdown",
   "metadata": {
    "nbpresent": {
     "id": "0c3100e0-ec72-4fe7-93ce-b72a578a37a8"
    }
   },
   "source": [
    "## Asking Questions： \n",
    "\n",
    "- Which king does win the most number of battles?\n",
    "- Which region does have the most number of battles?\n",
    "- What is the key factors lead to victories?\n"
   ]
  },
  {
   "cell_type": "markdown",
   "metadata": {
    "nbpresent": {
     "id": "27e085bd-15b5-445c-8bca-c28c1fa2963d"
    }
   },
   "source": [
    "## Data Wrangling\n"
   ]
  },
  {
   "cell_type": "code",
   "execution_count": 2,
   "metadata": {
    "nbpresent": {
     "id": "50bdc2b8-6d78-4ca6-9546-e984ea98eac9"
    }
   },
   "outputs": [],
   "source": [
    "# load Pandas pacakges\n",
    "import pandas as pd\n",
    "import matplotlib.style as style\n",
    "import matplotlib.pyplot as plt\n",
    "style.use('bmh')"
   ]
  },
  {
   "cell_type": "code",
   "execution_count": 4,
   "metadata": {
    "nbpresent": {
     "id": "c744f639-dc7a-407e-899c-6e3c086c188a"
    },
    "scrolled": true
   },
   "outputs": [
    {
     "data": {
      "text/html": [
       "<div>\n",
       "<style scoped>\n",
       "    .dataframe tbody tr th:only-of-type {\n",
       "        vertical-align: middle;\n",
       "    }\n",
       "\n",
       "    .dataframe tbody tr th {\n",
       "        vertical-align: top;\n",
       "    }\n",
       "\n",
       "    .dataframe thead th {\n",
       "        text-align: right;\n",
       "    }\n",
       "</style>\n",
       "<table border=\"1\" class=\"dataframe\">\n",
       "  <thead>\n",
       "    <tr style=\"text-align: right;\">\n",
       "      <th></th>\n",
       "      <th>name</th>\n",
       "      <th>year</th>\n",
       "      <th>battle_number</th>\n",
       "      <th>attacker_king</th>\n",
       "      <th>defender_king</th>\n",
       "      <th>attacker_1</th>\n",
       "      <th>attacker_2</th>\n",
       "      <th>attacker_3</th>\n",
       "      <th>attacker_4</th>\n",
       "      <th>defender_1</th>\n",
       "      <th>...</th>\n",
       "      <th>major_death</th>\n",
       "      <th>major_capture</th>\n",
       "      <th>attacker_size</th>\n",
       "      <th>defender_size</th>\n",
       "      <th>attacker_commander</th>\n",
       "      <th>defender_commander</th>\n",
       "      <th>summer</th>\n",
       "      <th>location</th>\n",
       "      <th>region</th>\n",
       "      <th>note</th>\n",
       "    </tr>\n",
       "  </thead>\n",
       "  <tbody>\n",
       "    <tr>\n",
       "      <th>0</th>\n",
       "      <td>Battle of the Golden Tooth</td>\n",
       "      <td>298</td>\n",
       "      <td>1</td>\n",
       "      <td>Joffrey/Tommen Baratheon</td>\n",
       "      <td>Robb Stark</td>\n",
       "      <td>Lannister</td>\n",
       "      <td>NaN</td>\n",
       "      <td>NaN</td>\n",
       "      <td>NaN</td>\n",
       "      <td>Tully</td>\n",
       "      <td>...</td>\n",
       "      <td>1.0</td>\n",
       "      <td>0.0</td>\n",
       "      <td>15000.0</td>\n",
       "      <td>4000.0</td>\n",
       "      <td>Jaime Lannister</td>\n",
       "      <td>Clement Piper, Vance</td>\n",
       "      <td>1.0</td>\n",
       "      <td>Golden Tooth</td>\n",
       "      <td>The Westerlands</td>\n",
       "      <td>NaN</td>\n",
       "    </tr>\n",
       "    <tr>\n",
       "      <th>1</th>\n",
       "      <td>Battle at the Mummer's Ford</td>\n",
       "      <td>298</td>\n",
       "      <td>2</td>\n",
       "      <td>Joffrey/Tommen Baratheon</td>\n",
       "      <td>Robb Stark</td>\n",
       "      <td>Lannister</td>\n",
       "      <td>NaN</td>\n",
       "      <td>NaN</td>\n",
       "      <td>NaN</td>\n",
       "      <td>Baratheon</td>\n",
       "      <td>...</td>\n",
       "      <td>1.0</td>\n",
       "      <td>0.0</td>\n",
       "      <td>NaN</td>\n",
       "      <td>120.0</td>\n",
       "      <td>Gregor Clegane</td>\n",
       "      <td>Beric Dondarrion</td>\n",
       "      <td>1.0</td>\n",
       "      <td>Mummer's Ford</td>\n",
       "      <td>The Riverlands</td>\n",
       "      <td>NaN</td>\n",
       "    </tr>\n",
       "    <tr>\n",
       "      <th>2</th>\n",
       "      <td>Battle of Riverrun</td>\n",
       "      <td>298</td>\n",
       "      <td>3</td>\n",
       "      <td>Joffrey/Tommen Baratheon</td>\n",
       "      <td>Robb Stark</td>\n",
       "      <td>Lannister</td>\n",
       "      <td>NaN</td>\n",
       "      <td>NaN</td>\n",
       "      <td>NaN</td>\n",
       "      <td>Tully</td>\n",
       "      <td>...</td>\n",
       "      <td>0.0</td>\n",
       "      <td>1.0</td>\n",
       "      <td>15000.0</td>\n",
       "      <td>10000.0</td>\n",
       "      <td>Jaime Lannister, Andros Brax</td>\n",
       "      <td>Edmure Tully, Tytos Blackwood</td>\n",
       "      <td>1.0</td>\n",
       "      <td>Riverrun</td>\n",
       "      <td>The Riverlands</td>\n",
       "      <td>NaN</td>\n",
       "    </tr>\n",
       "    <tr>\n",
       "      <th>3</th>\n",
       "      <td>Battle of the Green Fork</td>\n",
       "      <td>298</td>\n",
       "      <td>4</td>\n",
       "      <td>Robb Stark</td>\n",
       "      <td>Joffrey/Tommen Baratheon</td>\n",
       "      <td>Stark</td>\n",
       "      <td>NaN</td>\n",
       "      <td>NaN</td>\n",
       "      <td>NaN</td>\n",
       "      <td>Lannister</td>\n",
       "      <td>...</td>\n",
       "      <td>1.0</td>\n",
       "      <td>1.0</td>\n",
       "      <td>18000.0</td>\n",
       "      <td>20000.0</td>\n",
       "      <td>Roose Bolton, Wylis Manderly, Medger Cerwyn, H...</td>\n",
       "      <td>Tywin Lannister, Gregor Clegane, Kevan Lannist...</td>\n",
       "      <td>1.0</td>\n",
       "      <td>Green Fork</td>\n",
       "      <td>The Riverlands</td>\n",
       "      <td>NaN</td>\n",
       "    </tr>\n",
       "    <tr>\n",
       "      <th>4</th>\n",
       "      <td>Battle of the Whispering Wood</td>\n",
       "      <td>298</td>\n",
       "      <td>5</td>\n",
       "      <td>Robb Stark</td>\n",
       "      <td>Joffrey/Tommen Baratheon</td>\n",
       "      <td>Stark</td>\n",
       "      <td>Tully</td>\n",
       "      <td>NaN</td>\n",
       "      <td>NaN</td>\n",
       "      <td>Lannister</td>\n",
       "      <td>...</td>\n",
       "      <td>1.0</td>\n",
       "      <td>1.0</td>\n",
       "      <td>1875.0</td>\n",
       "      <td>6000.0</td>\n",
       "      <td>Robb Stark, Brynden Tully</td>\n",
       "      <td>Jaime Lannister</td>\n",
       "      <td>1.0</td>\n",
       "      <td>Whispering Wood</td>\n",
       "      <td>The Riverlands</td>\n",
       "      <td>NaN</td>\n",
       "    </tr>\n",
       "  </tbody>\n",
       "</table>\n",
       "<p>5 rows × 25 columns</p>\n",
       "</div>"
      ],
      "text/plain": [
       "                            name  year  battle_number  \\\n",
       "0     Battle of the Golden Tooth   298              1   \n",
       "1    Battle at the Mummer's Ford   298              2   \n",
       "2             Battle of Riverrun   298              3   \n",
       "3       Battle of the Green Fork   298              4   \n",
       "4  Battle of the Whispering Wood   298              5   \n",
       "\n",
       "              attacker_king             defender_king attacker_1 attacker_2  \\\n",
       "0  Joffrey/Tommen Baratheon                Robb Stark  Lannister        NaN   \n",
       "1  Joffrey/Tommen Baratheon                Robb Stark  Lannister        NaN   \n",
       "2  Joffrey/Tommen Baratheon                Robb Stark  Lannister        NaN   \n",
       "3                Robb Stark  Joffrey/Tommen Baratheon      Stark        NaN   \n",
       "4                Robb Stark  Joffrey/Tommen Baratheon      Stark      Tully   \n",
       "\n",
       "  attacker_3 attacker_4 defender_1 ...  major_death  major_capture  \\\n",
       "0        NaN        NaN      Tully ...          1.0            0.0   \n",
       "1        NaN        NaN  Baratheon ...          1.0            0.0   \n",
       "2        NaN        NaN      Tully ...          0.0            1.0   \n",
       "3        NaN        NaN  Lannister ...          1.0            1.0   \n",
       "4        NaN        NaN  Lannister ...          1.0            1.0   \n",
       "\n",
       "   attacker_size defender_size  \\\n",
       "0        15000.0        4000.0   \n",
       "1            NaN         120.0   \n",
       "2        15000.0       10000.0   \n",
       "3        18000.0       20000.0   \n",
       "4         1875.0        6000.0   \n",
       "\n",
       "                                  attacker_commander  \\\n",
       "0                                    Jaime Lannister   \n",
       "1                                     Gregor Clegane   \n",
       "2                       Jaime Lannister, Andros Brax   \n",
       "3  Roose Bolton, Wylis Manderly, Medger Cerwyn, H...   \n",
       "4                          Robb Stark, Brynden Tully   \n",
       "\n",
       "                                  defender_commander  summer         location  \\\n",
       "0                               Clement Piper, Vance     1.0     Golden Tooth   \n",
       "1                                   Beric Dondarrion     1.0    Mummer's Ford   \n",
       "2                      Edmure Tully, Tytos Blackwood     1.0         Riverrun   \n",
       "3  Tywin Lannister, Gregor Clegane, Kevan Lannist...     1.0       Green Fork   \n",
       "4                                    Jaime Lannister     1.0  Whispering Wood   \n",
       "\n",
       "            region note  \n",
       "0  The Westerlands  NaN  \n",
       "1   The Riverlands  NaN  \n",
       "2   The Riverlands  NaN  \n",
       "3   The Riverlands  NaN  \n",
       "4   The Riverlands  NaN  \n",
       "\n",
       "[5 rows x 25 columns]"
      ]
     },
     "execution_count": 4,
     "metadata": {},
     "output_type": "execute_result"
    }
   ],
   "source": [
    "# load the dataset\n",
    "df = pd.read_csv('./game-of-thrones/battles.csv')\n",
    "df.head()"
   ]
  },
  {
   "cell_type": "code",
   "execution_count": 5,
   "metadata": {
    "nbpresent": {
     "id": "ccbe36ac-d824-4761-97d7-805d9c9997c0"
    },
    "scrolled": true
   },
   "outputs": [
    {
     "name": "stdout",
     "output_type": "stream",
     "text": [
      "<class 'pandas.core.frame.DataFrame'>\n",
      "RangeIndex: 38 entries, 0 to 37\n",
      "Data columns (total 25 columns):\n",
      "name                  38 non-null object\n",
      "year                  38 non-null int64\n",
      "battle_number         38 non-null int64\n",
      "attacker_king         36 non-null object\n",
      "defender_king         35 non-null object\n",
      "attacker_1            38 non-null object\n",
      "attacker_2            10 non-null object\n",
      "attacker_3            3 non-null object\n",
      "attacker_4            2 non-null object\n",
      "defender_1            37 non-null object\n",
      "defender_2            2 non-null object\n",
      "defender_3            0 non-null float64\n",
      "defender_4            0 non-null float64\n",
      "attacker_outcome      37 non-null object\n",
      "battle_type           37 non-null object\n",
      "major_death           37 non-null float64\n",
      "major_capture         37 non-null float64\n",
      "attacker_size         24 non-null float64\n",
      "defender_size         19 non-null float64\n",
      "attacker_commander    37 non-null object\n",
      "defender_commander    28 non-null object\n",
      "summer                37 non-null float64\n",
      "location              37 non-null object\n",
      "region                38 non-null object\n",
      "note                  5 non-null object\n",
      "dtypes: float64(7), int64(2), object(16)\n",
      "memory usage: 7.5+ KB\n"
     ]
    },
    {
     "data": {
      "text/plain": [
       "0     False\n",
       "1     False\n",
       "2     False\n",
       "3     False\n",
       "4     False\n",
       "5     False\n",
       "6     False\n",
       "7     False\n",
       "8     False\n",
       "9     False\n",
       "10    False\n",
       "11    False\n",
       "12    False\n",
       "13    False\n",
       "14    False\n",
       "15    False\n",
       "16    False\n",
       "17    False\n",
       "18    False\n",
       "19    False\n",
       "20    False\n",
       "21    False\n",
       "22    False\n",
       "23    False\n",
       "24    False\n",
       "25    False\n",
       "26    False\n",
       "27    False\n",
       "28    False\n",
       "29    False\n",
       "30    False\n",
       "31    False\n",
       "32    False\n",
       "33    False\n",
       "34    False\n",
       "35    False\n",
       "36    False\n",
       "37    False\n",
       "dtype: bool"
      ]
     },
     "execution_count": 5,
     "metadata": {},
     "output_type": "execute_result"
    }
   ],
   "source": [
    "# check the dataset general info\n",
    "df.info()\n",
    "df.duplicated()"
   ]
  },
  {
   "cell_type": "code",
   "execution_count": 6,
   "metadata": {
    "nbpresent": {
     "id": "ea6064cb-8d86-442f-99c3-e555e4384e3e"
    }
   },
   "outputs": [
    {
     "data": {
      "text/html": [
       "<div>\n",
       "<style scoped>\n",
       "    .dataframe tbody tr th:only-of-type {\n",
       "        vertical-align: middle;\n",
       "    }\n",
       "\n",
       "    .dataframe tbody tr th {\n",
       "        vertical-align: top;\n",
       "    }\n",
       "\n",
       "    .dataframe thead th {\n",
       "        text-align: right;\n",
       "    }\n",
       "</style>\n",
       "<table border=\"1\" class=\"dataframe\">\n",
       "  <thead>\n",
       "    <tr style=\"text-align: right;\">\n",
       "      <th></th>\n",
       "      <th>year</th>\n",
       "      <th>battle_number</th>\n",
       "      <th>defender_3</th>\n",
       "      <th>defender_4</th>\n",
       "      <th>major_death</th>\n",
       "      <th>major_capture</th>\n",
       "      <th>attacker_size</th>\n",
       "      <th>defender_size</th>\n",
       "      <th>summer</th>\n",
       "    </tr>\n",
       "  </thead>\n",
       "  <tbody>\n",
       "    <tr>\n",
       "      <th>count</th>\n",
       "      <td>38.000000</td>\n",
       "      <td>38.000000</td>\n",
       "      <td>0.0</td>\n",
       "      <td>0.0</td>\n",
       "      <td>37.000000</td>\n",
       "      <td>37.000000</td>\n",
       "      <td>24.000000</td>\n",
       "      <td>19.000000</td>\n",
       "      <td>37.000000</td>\n",
       "    </tr>\n",
       "    <tr>\n",
       "      <th>mean</th>\n",
       "      <td>299.105263</td>\n",
       "      <td>19.500000</td>\n",
       "      <td>NaN</td>\n",
       "      <td>NaN</td>\n",
       "      <td>0.351351</td>\n",
       "      <td>0.297297</td>\n",
       "      <td>9942.541667</td>\n",
       "      <td>6428.157895</td>\n",
       "      <td>0.702703</td>\n",
       "    </tr>\n",
       "    <tr>\n",
       "      <th>std</th>\n",
       "      <td>0.689280</td>\n",
       "      <td>11.113055</td>\n",
       "      <td>NaN</td>\n",
       "      <td>NaN</td>\n",
       "      <td>0.483978</td>\n",
       "      <td>0.463373</td>\n",
       "      <td>20283.092065</td>\n",
       "      <td>6225.182106</td>\n",
       "      <td>0.463373</td>\n",
       "    </tr>\n",
       "    <tr>\n",
       "      <th>min</th>\n",
       "      <td>298.000000</td>\n",
       "      <td>1.000000</td>\n",
       "      <td>NaN</td>\n",
       "      <td>NaN</td>\n",
       "      <td>0.000000</td>\n",
       "      <td>0.000000</td>\n",
       "      <td>20.000000</td>\n",
       "      <td>100.000000</td>\n",
       "      <td>0.000000</td>\n",
       "    </tr>\n",
       "    <tr>\n",
       "      <th>25%</th>\n",
       "      <td>299.000000</td>\n",
       "      <td>10.250000</td>\n",
       "      <td>NaN</td>\n",
       "      <td>NaN</td>\n",
       "      <td>0.000000</td>\n",
       "      <td>0.000000</td>\n",
       "      <td>1375.000000</td>\n",
       "      <td>1070.000000</td>\n",
       "      <td>0.000000</td>\n",
       "    </tr>\n",
       "    <tr>\n",
       "      <th>50%</th>\n",
       "      <td>299.000000</td>\n",
       "      <td>19.500000</td>\n",
       "      <td>NaN</td>\n",
       "      <td>NaN</td>\n",
       "      <td>0.000000</td>\n",
       "      <td>0.000000</td>\n",
       "      <td>4000.000000</td>\n",
       "      <td>6000.000000</td>\n",
       "      <td>1.000000</td>\n",
       "    </tr>\n",
       "    <tr>\n",
       "      <th>75%</th>\n",
       "      <td>300.000000</td>\n",
       "      <td>28.750000</td>\n",
       "      <td>NaN</td>\n",
       "      <td>NaN</td>\n",
       "      <td>1.000000</td>\n",
       "      <td>1.000000</td>\n",
       "      <td>8250.000000</td>\n",
       "      <td>10000.000000</td>\n",
       "      <td>1.000000</td>\n",
       "    </tr>\n",
       "    <tr>\n",
       "      <th>max</th>\n",
       "      <td>300.000000</td>\n",
       "      <td>38.000000</td>\n",
       "      <td>NaN</td>\n",
       "      <td>NaN</td>\n",
       "      <td>1.000000</td>\n",
       "      <td>1.000000</td>\n",
       "      <td>100000.000000</td>\n",
       "      <td>20000.000000</td>\n",
       "      <td>1.000000</td>\n",
       "    </tr>\n",
       "  </tbody>\n",
       "</table>\n",
       "</div>"
      ],
      "text/plain": [
       "             year  battle_number  defender_3  defender_4  major_death  \\\n",
       "count   38.000000      38.000000         0.0         0.0    37.000000   \n",
       "mean   299.105263      19.500000         NaN         NaN     0.351351   \n",
       "std      0.689280      11.113055         NaN         NaN     0.483978   \n",
       "min    298.000000       1.000000         NaN         NaN     0.000000   \n",
       "25%    299.000000      10.250000         NaN         NaN     0.000000   \n",
       "50%    299.000000      19.500000         NaN         NaN     0.000000   \n",
       "75%    300.000000      28.750000         NaN         NaN     1.000000   \n",
       "max    300.000000      38.000000         NaN         NaN     1.000000   \n",
       "\n",
       "       major_capture  attacker_size  defender_size     summer  \n",
       "count      37.000000      24.000000      19.000000  37.000000  \n",
       "mean        0.297297    9942.541667    6428.157895   0.702703  \n",
       "std         0.463373   20283.092065    6225.182106   0.463373  \n",
       "min         0.000000      20.000000     100.000000   0.000000  \n",
       "25%         0.000000    1375.000000    1070.000000   0.000000  \n",
       "50%         0.000000    4000.000000    6000.000000   1.000000  \n",
       "75%         1.000000    8250.000000   10000.000000   1.000000  \n",
       "max         1.000000  100000.000000   20000.000000   1.000000  "
      ]
     },
     "execution_count": 6,
     "metadata": {},
     "output_type": "execute_result"
    }
   ],
   "source": [
    "df.describe()"
   ]
  },
  {
   "cell_type": "code",
   "execution_count": 7,
   "metadata": {
    "nbpresent": {
     "id": "37a50665-d354-4d18-ba0e-6c9cbe3e61df"
    },
    "scrolled": true
   },
   "outputs": [
    {
     "data": {
      "text/html": [
       "<div>\n",
       "<style scoped>\n",
       "    .dataframe tbody tr th:only-of-type {\n",
       "        vertical-align: middle;\n",
       "    }\n",
       "\n",
       "    .dataframe tbody tr th {\n",
       "        vertical-align: top;\n",
       "    }\n",
       "\n",
       "    .dataframe thead th {\n",
       "        text-align: right;\n",
       "    }\n",
       "</style>\n",
       "<table border=\"1\" class=\"dataframe\">\n",
       "  <thead>\n",
       "    <tr style=\"text-align: right;\">\n",
       "      <th></th>\n",
       "      <th>name</th>\n",
       "      <th>year</th>\n",
       "      <th>battle_number</th>\n",
       "      <th>attacker_king</th>\n",
       "      <th>defender_king</th>\n",
       "      <th>attacker_1</th>\n",
       "      <th>attacker_2</th>\n",
       "      <th>attacker_3</th>\n",
       "      <th>attacker_4</th>\n",
       "      <th>defender_1</th>\n",
       "      <th>...</th>\n",
       "      <th>major_death</th>\n",
       "      <th>major_capture</th>\n",
       "      <th>attacker_size</th>\n",
       "      <th>defender_size</th>\n",
       "      <th>attacker_commander</th>\n",
       "      <th>defender_commander</th>\n",
       "      <th>summer</th>\n",
       "      <th>location</th>\n",
       "      <th>region</th>\n",
       "      <th>note</th>\n",
       "    </tr>\n",
       "  </thead>\n",
       "  <tbody>\n",
       "    <tr>\n",
       "      <th>27</th>\n",
       "      <td>Battle of Castle Black</td>\n",
       "      <td>300</td>\n",
       "      <td>28</td>\n",
       "      <td>Stannis Baratheon</td>\n",
       "      <td>Mance Rayder</td>\n",
       "      <td>Free folk</td>\n",
       "      <td>Thenns</td>\n",
       "      <td>Giants</td>\n",
       "      <td>NaN</td>\n",
       "      <td>Night's Watch</td>\n",
       "      <td>...</td>\n",
       "      <td>1.0</td>\n",
       "      <td>1.0</td>\n",
       "      <td>100000.0</td>\n",
       "      <td>1240.0</td>\n",
       "      <td>Mance Rayder, Tormund Giantsbane, Harma Dogshe...</td>\n",
       "      <td>Stannis Baratheon, Jon Snow, Donal Noye, Cotte...</td>\n",
       "      <td>0.0</td>\n",
       "      <td>Castle Black</td>\n",
       "      <td>Beyond the Wall</td>\n",
       "      <td>NaN</td>\n",
       "    </tr>\n",
       "  </tbody>\n",
       "</table>\n",
       "<p>1 rows × 25 columns</p>\n",
       "</div>"
      ],
      "text/plain": [
       "                      name  year  battle_number      attacker_king  \\\n",
       "27  Battle of Castle Black   300             28  Stannis Baratheon   \n",
       "\n",
       "   defender_king attacker_1 attacker_2 attacker_3 attacker_4     defender_1  \\\n",
       "27  Mance Rayder  Free folk     Thenns     Giants        NaN  Night's Watch   \n",
       "\n",
       "   ...  major_death  major_capture  attacker_size defender_size  \\\n",
       "27 ...          1.0            1.0       100000.0        1240.0   \n",
       "\n",
       "                                   attacker_commander  \\\n",
       "27  Mance Rayder, Tormund Giantsbane, Harma Dogshe...   \n",
       "\n",
       "                                   defender_commander  summer      location  \\\n",
       "27  Stannis Baratheon, Jon Snow, Donal Noye, Cotte...     0.0  Castle Black   \n",
       "\n",
       "             region note  \n",
       "27  Beyond the Wall  NaN  \n",
       "\n",
       "[1 rows x 25 columns]"
      ]
     },
     "execution_count": 7,
     "metadata": {},
     "output_type": "execute_result"
    }
   ],
   "source": [
    "mask = df['attacker_size'] == 100000\n",
    "df[mask]"
   ]
  },
  {
   "cell_type": "markdown",
   "metadata": {
    "nbpresent": {
     "id": "cf4a2446-bcdc-444b-b67d-6df8c06b833a"
    }
   },
   "source": [
    "> **Note:** From info() function, we can see that there are 38 entries in the dataset. Some values are missing. From duplicated() function, there is no duplicated row in the dataset. We then need to proceed to clean data process since some data are missing."
   ]
  },
  {
   "cell_type": "code",
   "execution_count": 8,
   "metadata": {
    "nbpresent": {
     "id": "adb5332a-f9ef-4b03-abcd-3885712cc47c"
    }
   },
   "outputs": [
    {
     "data": {
      "text/html": [
       "<div>\n",
       "<style scoped>\n",
       "    .dataframe tbody tr th:only-of-type {\n",
       "        vertical-align: middle;\n",
       "    }\n",
       "\n",
       "    .dataframe tbody tr th {\n",
       "        vertical-align: top;\n",
       "    }\n",
       "\n",
       "    .dataframe thead th {\n",
       "        text-align: right;\n",
       "    }\n",
       "</style>\n",
       "<table border=\"1\" class=\"dataframe\">\n",
       "  <thead>\n",
       "    <tr style=\"text-align: right;\">\n",
       "      <th></th>\n",
       "      <th>name</th>\n",
       "      <th>year</th>\n",
       "      <th>battle_number</th>\n",
       "      <th>attacker_king</th>\n",
       "      <th>defender_king</th>\n",
       "      <th>attacker_1</th>\n",
       "      <th>attacker_2</th>\n",
       "      <th>attacker_3</th>\n",
       "      <th>attacker_4</th>\n",
       "      <th>defender_1</th>\n",
       "      <th>...</th>\n",
       "      <th>major_death</th>\n",
       "      <th>major_capture</th>\n",
       "      <th>attacker_size</th>\n",
       "      <th>defender_size</th>\n",
       "      <th>attacker_commander</th>\n",
       "      <th>defender_commander</th>\n",
       "      <th>summer</th>\n",
       "      <th>location</th>\n",
       "      <th>region</th>\n",
       "      <th>note</th>\n",
       "    </tr>\n",
       "  </thead>\n",
       "  <tbody>\n",
       "    <tr>\n",
       "      <th>27</th>\n",
       "      <td>Battle of Castle Black</td>\n",
       "      <td>300</td>\n",
       "      <td>28</td>\n",
       "      <td>Stannis Baratheon</td>\n",
       "      <td>Mance Rayder</td>\n",
       "      <td>Free folk</td>\n",
       "      <td>Thenns</td>\n",
       "      <td>Giants</td>\n",
       "      <td>NaN</td>\n",
       "      <td>Night's Watch</td>\n",
       "      <td>...</td>\n",
       "      <td>1.0</td>\n",
       "      <td>1.0</td>\n",
       "      <td>NaN</td>\n",
       "      <td>1240.0</td>\n",
       "      <td>Mance Rayder, Tormund Giantsbane, Harma Dogshe...</td>\n",
       "      <td>Stannis Baratheon, Jon Snow, Donal Noye, Cotte...</td>\n",
       "      <td>0.0</td>\n",
       "      <td>Castle Black</td>\n",
       "      <td>Beyond the Wall</td>\n",
       "      <td>NaN</td>\n",
       "    </tr>\n",
       "  </tbody>\n",
       "</table>\n",
       "<p>1 rows × 25 columns</p>\n",
       "</div>"
      ],
      "text/plain": [
       "                      name  year  battle_number      attacker_king  \\\n",
       "27  Battle of Castle Black   300             28  Stannis Baratheon   \n",
       "\n",
       "   defender_king attacker_1 attacker_2 attacker_3 attacker_4     defender_1  \\\n",
       "27  Mance Rayder  Free folk     Thenns     Giants        NaN  Night's Watch   \n",
       "\n",
       "   ...  major_death  major_capture  attacker_size defender_size  \\\n",
       "27 ...          1.0            1.0            NaN        1240.0   \n",
       "\n",
       "                                   attacker_commander  \\\n",
       "27  Mance Rayder, Tormund Giantsbane, Harma Dogshe...   \n",
       "\n",
       "                                   defender_commander  summer      location  \\\n",
       "27  Stannis Baratheon, Jon Snow, Donal Noye, Cotte...     0.0  Castle Black   \n",
       "\n",
       "             region note  \n",
       "27  Beyond the Wall  NaN  \n",
       "\n",
       "[1 rows x 25 columns]"
      ]
     },
     "execution_count": 8,
     "metadata": {},
     "output_type": "execute_result"
    }
   ],
   "source": [
    "# clean the data\n",
    "df.loc[mask, 'attacker_size'] = None\n",
    "df[mask]"
   ]
  },
  {
   "cell_type": "code",
   "execution_count": 9,
   "metadata": {
    "nbpresent": {
     "id": "18c96a34-fa92-4c8a-b285-ad3f9fc691bc"
    },
    "scrolled": true
   },
   "outputs": [
    {
     "name": "stdout",
     "output_type": "stream",
     "text": [
      "<class 'pandas.core.frame.DataFrame'>\n",
      "RangeIndex: 38 entries, 0 to 37\n",
      "Data columns (total 23 columns):\n",
      "name                  38 non-null object\n",
      "year                  38 non-null int64\n",
      "battle_number         38 non-null int64\n",
      "attacker_king         36 non-null object\n",
      "defender_king         35 non-null object\n",
      "attacker_1            38 non-null object\n",
      "attacker_2            10 non-null object\n",
      "attacker_3            3 non-null object\n",
      "attacker_4            2 non-null object\n",
      "defender_1            37 non-null object\n",
      "defender_2            2 non-null object\n",
      "attacker_outcome      38 non-null object\n",
      "battle_type           37 non-null object\n",
      "major_death           38 non-null bool\n",
      "major_capture         38 non-null bool\n",
      "attacker_size         23 non-null float64\n",
      "defender_size         19 non-null float64\n",
      "attacker_commander    37 non-null object\n",
      "defender_commander    28 non-null object\n",
      "summer                38 non-null bool\n",
      "location              37 non-null object\n",
      "region                38 non-null object\n",
      "note                  5 non-null object\n",
      "dtypes: bool(3), float64(2), int64(2), object(16)\n",
      "memory usage: 6.1+ KB\n"
     ]
    }
   ],
   "source": [
    "df.dropna(1, how='all', inplace=True)\n",
    "df['major_death'] = df['major_death'].astype('bool')\n",
    "df['major_capture'] = df['major_capture'].astype('bool')\n",
    "df['summer'] = df['summer'].astype('bool')\n",
    "df['attacker_outcome'] = df['attacker_outcome'].fillna('draw')\n",
    "df.info()"
   ]
  },
  {
   "cell_type": "markdown",
   "metadata": {
    "nbpresent": {
     "id": "84a5fffb-d56b-4913-bc5c-cf0d013c4e66"
    }
   },
   "source": [
    "## Exploratory data analysis"
   ]
  },
  {
   "cell_type": "code",
   "execution_count": 10,
   "metadata": {
    "nbpresent": {
     "id": "dac1f73b-fb77-4e13-96e1-7fbcf57e6e92"
    }
   },
   "outputs": [
    {
     "data": {
      "image/png": "[encoded data removed]",
      "text/plain": [
       "<Figure size 864x576 with 3 Axes>"
      ]
     },
     "metadata": {},
     "output_type": "display_data"
    }
   ],
   "source": [
    "fig = plt.figure(figsize=(12,8))\n",
    "ax1 = fig.add_subplot(231)\n",
    "ax2 = fig.add_subplot(233)\n",
    "ax3 = fig.add_subplot(235)\n",
    "df_win = df[df['attacker_outcome'] == 'win']\n",
    "df_lose = df[df['attacker_outcome'] == 'loss']\n",
    "df_win['attacker_king'].value_counts().plot(kind='pie', ax=ax1);\n",
    "df_lose['defender_king'].value_counts().plot(kind='pie', ax=ax2);\n",
    "df['region'].value_counts().plot(kind='pie', ax=ax3);  "
   ]
  },
  {
   "cell_type": "markdown",
   "metadata": {},
   "source": [
    "> **Note:** From the two pie charts above, it is clear that Joffrey/Thommen Baratheon is the king who wins the most both in defending and attacking. For the diagram below, most battles took place in the Riverlands."
   ]
  },
  {
   "cell_type": "code",
   "execution_count": 14,
   "metadata": {
    "nbpresent": {
     "id": "0f837274-0840-42f8-b6fc-397039e0e110"
    }
   },
   "outputs": [
    {
     "data": {
      "image/png": "[encoded data removed]",
      "text/plain": [
       "<Figure size 288x288 with 1 Axes>"
      ]
     },
     "metadata": {},
     "output_type": "display_data"
    }
   ],
   "source": [
    "df_win['summer'].value_counts().plot(kind='pie', labels=['summer','others'], autopct='%.0f%%', figsize=(4,4));\n",
    "ax1.set_ylabel('% of Battles');"
   ]
  },
  {
   "cell_type": "markdown",
   "metadata": {},
   "source": [
    "> **Note:** It is quite clear that most win battles happened in summer."
   ]
  },
  {
   "cell_type": "markdown",
   "metadata": {
    "nbpresent": {
     "id": "2cb61a55-aaff-47a4-b2b2-35b46a6b5b4a"
    }
   },
   "source": [
    "## Draw conclusions\n",
    "\n",
    "\n"
   ]
  },
  {
   "cell_type": "markdown",
   "metadata": {
    "nbpresent": {
     "id": "b8b1e252-67bb-4814-8f3b-d4f1c82205fa"
    }
   },
   "source": [
    "## Further Reflections\n",
    "\n",
    "**Question**: Is your logic rigorous during your analysis and summary? Is there any space for further improvement?  You can think about these questions from the following perspectives: \n",
    "1. Is the dataset integral? Does it contain all data you want to analyze? \n",
    "2. May your operation (for example, delete/fill missing values) influence your conclusion during data process? \n",
    "3. Are there any other variables (which are not contained in the dataset) to help your analysis? \n",
    "4. Have you mixed correlation and causality when drawing a conclusion? \n",
    "\n",
    "**Answer**: \n",
    "  Although the sample space is quite small in this dataset, it has all neccessary information I want to analyze. I am lack of dealing with missing data in cleaning data step. I used deletion missing string and filling missing numeric value by mean value to deal with the missing data. It may not influence my conclusion in the first two questions since the sum is significantly higher than the others in my first two question. The last question I set is somewhat affected, because I filled it with mean value. It might have some deviation compared with correct value. I tried to mix the correlation and causality, but mostly it is based on data. Actually, I am not sure whether I should include some personal views in the conclusion. Also, I am unsure whether I should clean all data or just the data I need to use.\n",
    "\n"
   ]
  }
 ],
 "metadata": {
  "kernelspec": {
   "display_name": "Python [default]",
   "language": "python",
   "name": "python3"
  },
  "language_info": {
   "codemirror_mode": {
    "name": "ipython",
    "version": 3
   },
   "file_extension": ".py",
   "mimetype": "text/x-python",
   "name": "python",
   "nbconvert_exporter": "python",
   "pygments_lexer": "ipython3",
   "version": "3.6.5"
  }
 },
 "nbformat": 4,
 "nbformat_minor": 2
}
