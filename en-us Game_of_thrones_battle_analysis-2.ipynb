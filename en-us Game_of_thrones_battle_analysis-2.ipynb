{
 "cells": [
  {
   "cell_type": "markdown",
   "metadata": {},
   "source": [
    "# Data Analysis of the “War of the Five Kings” - Game of Thrones\n",
    "\n",
    "## Introduction\n",
    "\n",
    "The War of the Five Kings is a famous civil war described in the well-known serious fantasy novel “Game of Thrones”. This is a civil strife with an unprecedented scale that involves seven kingdoms. As the name implies, a total of five persons claim to be the king during the war: Joffrey Baratheon, Stannis Baratheon and Renly Baratheon all claim to be the rightful heir of the iron throne. Moreover, Robb Stark is elected by the barons of the northern border to the King in the North, and Balon Greyjoy erects the flag of independence again and claims to be the King of the Iron Islands, in an attempt to shake off the ruling of the Iron Throne. \n",
    "\n",
    "\n",
    "This dataset (battles.csv) contains all the battles during the War of the Five Kings. It is part of the [Game of Thrones](https://www.kaggle.com/mylesoneill/game-of-thrones) in Kaggle. \n",
    "\n",
    "Variables in the dataset and meanings:"
   ]
  },
  {
   "cell_type": "markdown",
   "metadata": {},
   "source": [
    "\n",
    "- **name:** String variable. The name of the battle.\n",
    "- **year:** Numeric variable. The year of the battle.\n",
    "- **battle_number:** Numeric variable. A unique ID number for the battle.\n",
    "- **attacker_king:** Categorical. The attacker's king. A slash indicators that the king charges over the course of the war. For example, \"Joffrey/Tommen Baratheon\" is coded as such because one king follows the other in the Iron Throne.\n",
    "- **defender_king:** Categorical variable. The defender's king.\n",
    "- **attacker_1:** String variable. Major house attacking.\n",
    "- **attacker_2:** String variable. Major house attacking.\n",
    "- **attacker_3:** String variable. Major house attacking.\n",
    "- **attacker_4:** String variable. Major house attacking.\n",
    "- **defender_1:** String variable. Major house defending.\n",
    "- **defender_2:** String variable. Major house defending.\n",
    "- **defender_3:** String variable. Major house defending.\n",
    "- **defender_4:** String variable. Major house defending.\n",
    "- **attacker_outcome:** Categorical variable. The outcome from the perspective of the attacker. Categories: win, loss, draw.\n",
    "- **battle_type:** Categorical variable. A classification of the battle's primary type. Categories:\n",
    "    - pitched\\_battle: Armies meet in a location and fight. This is also the baseline category.\n",
    "    - ambush: A battle where stealth or subterfuge was the primary means of attack.\n",
    "    - siege: A prolonged of a fortied position.\n",
    "    - razing: An attack against an undefended position\n",
    "- **major_death:** Binary variable. If there was a death of a major figure during the battle.\n",
    "- **major_capture:** Binary variable. If there was the capture of the major figure during the battle.\n",
    "- **attacker_size:** Numeric variable. The size of the attacker's force. No distinction is made between the types of soldiers such as cavalry and footmen.\n",
    "- **defender_size:** Numeric variable. The size of the defenders's force. No distinction is made between the types of soldiers such as cavalry and footmen.\n",
    "- **attacker_commander:** String variable. Major commanders of the attackers. Commander's names are included without honoric titles and commandders are seperated by commas.\n",
    "- **defender_commander:** String variable. Major commanders of the defener. Commander's names are included without honoric titles and commandders are seperated by commas.\n",
    "- **summer:** Binary variable. Was it summer?\n",
    "- **location:** String variable. The location of the battle.\n",
    "- **region:** Categorical variable. The region where the battle takes place. Categories: Beyond the Wall, The North, The Iron Islands, The Riverlands, The Vale of Arryn, The Westerlands, The Crownlands, The Reach, The Stormlands, Dorne\n",
    "- **note:** String variable. Coding notes regarding individual observations.. \n",
    "\n"
   ]
  },
  {
   "cell_type": "markdown",
   "metadata": {},
   "source": [
    "## Project Instructions\n",
    "\n",
    "\n",
    "\n",
    "We have provided the data analysis flow for this project, but you will have to complete the codes by yourself. Your failure to complete this project means you are temporarily incapable to achieve the nanodegree of data analysis (advanced). We suggest you achieve a nanodegree of data analysis (introductory) and master the knowledge required to proceed with the advanced course. \n",
    "\n",
    "Records in the process of data analysis are also an important part of the data analysis report. You can insert markdown cells where you need to record your key steps and reasoning processes during the data analysis. For example, what characteristics do data have? What do statistical data mean? What conclusion can you derive from visualization? What’s your analysis next step? Why do you perform the analysis? If you fail to do this, you can’t pass this project. \n",
    "\n",
    "\n",
    "> **Tip**: Quoted sections like this will provide helpful instructions on how to navigate and use an iPython notebook.\n",
    "\n",
    "## Ask questions\n",
    "\n",
    "Under this project, you will perform an explorative analysis of data as a data analyst. You will understand the basic flow of data analysis. Before starting data analysis, please think several questions about these battles you will have to understand. For example, what region sees the largest number of battles? What king wins the most victories? What key factors influence the outcome of a battle? \n"
   ]
  },
  {
   "cell_type": "markdown",
   "metadata": {},
   "source": [
    "**Question**：Please write down questions you’re interested in and ensure all these questions can be answered with data available now. \n",
    "(To ensure the learning effect, please ensure your data analysis report can contain two visualization analysis chapters and one correlation analysis chapter.）\n",
    "\n",
    "**Answer**：\n",
    "- Which king does win the most number of battles?\n",
    "- Which region does have the most number of battles?\n",
    "- What is the key factors lead to victories?\n"
   ]
  },
  {
   "cell_type": "markdown",
   "metadata": {},
   "source": [
    "After setting questions, we will start importing data and perform an explorative analysis to answer the questions set above. \n",
    "\n",
    "\n",
    "> **Tip**: If you double click on this cell, you will see the text change so that all of the formatting is removed. This allows you to edit this block of text. This block of text is written using [Markdown](http://daringfireball.net/projects/markdown/syntax), which is a way to format text using headers, links, italics, and many other options. You will learn more about Markdown later in the Nanodegree Program. Hit **Shift** + **Enter** or **Shift** + **Return**.\n"
   ]
  },
  {
   "cell_type": "markdown",
   "metadata": {},
   "source": [
    "## Data Wrangling\n",
    "\n",
    "\n",
    "> **Tip**: You can run a code cell like you formatted Markdown cells by clicking on the cell and using the keyboard shortcut **Shift** + **Enter** or **Shift** + **Return**. Alternatively, a code cell can be executed using the **Play** button in the toolbar after selecting it. While the cell is running, you will see an asterisk in the message to the left of the cell, i.e. `In [*]:`. The asterisk will change into a number to show that execution has completed, e.g. `In [1]`. If there is output, it will show up as `Out [1]:`, with an appropriate number to match the \"In\" number."
   ]
  },
  {
   "cell_type": "code",
   "execution_count": 10,
   "metadata": {},
   "outputs": [],
   "source": [
    "# TO DO: load pacakges\n",
    "import pandas as pd"
   ]
  },
  {
   "cell_type": "code",
   "execution_count": 13,
   "metadata": {
    "scrolled": true
   },
   "outputs": [
    {
     "data": {
      "text/html": [
       "<div>\n",
       "<style scoped>\n",
       "    .dataframe tbody tr th:only-of-type {\n",
       "        vertical-align: middle;\n",
       "    }\n",
       "\n",
       "    .dataframe tbody tr th {\n",
       "        vertical-align: top;\n",
       "    }\n",
       "\n",
       "    .dataframe thead th {\n",
       "        text-align: right;\n",
       "    }\n",
       "</style>\n",
       "<table border=\"1\" class=\"dataframe\">\n",
       "  <thead>\n",
       "    <tr style=\"text-align: right;\">\n",
       "      <th></th>\n",
       "      <th>name</th>\n",
       "      <th>year</th>\n",
       "      <th>battle_number</th>\n",
       "      <th>attacker_king</th>\n",
       "      <th>defender_king</th>\n",
       "      <th>attacker_1</th>\n",
       "      <th>attacker_2</th>\n",
       "      <th>attacker_3</th>\n",
       "      <th>attacker_4</th>\n",
       "      <th>defender_1</th>\n",
       "      <th>...</th>\n",
       "      <th>major_death</th>\n",
       "      <th>major_capture</th>\n",
       "      <th>attacker_size</th>\n",
       "      <th>defender_size</th>\n",
       "      <th>attacker_commander</th>\n",
       "      <th>defender_commander</th>\n",
       "      <th>summer</th>\n",
       "      <th>location</th>\n",
       "      <th>region</th>\n",
       "      <th>note</th>\n",
       "    </tr>\n",
       "  </thead>\n",
       "  <tbody>\n",
       "    <tr>\n",
       "      <th>0</th>\n",
       "      <td>Battle of the Golden Tooth</td>\n",
       "      <td>298</td>\n",
       "      <td>1</td>\n",
       "      <td>Joffrey/Tommen Baratheon</td>\n",
       "      <td>Robb Stark</td>\n",
       "      <td>Lannister</td>\n",
       "      <td>NaN</td>\n",
       "      <td>NaN</td>\n",
       "      <td>NaN</td>\n",
       "      <td>Tully</td>\n",
       "      <td>...</td>\n",
       "      <td>1.0</td>\n",
       "      <td>0.0</td>\n",
       "      <td>15000.0</td>\n",
       "      <td>4000.0</td>\n",
       "      <td>Jaime Lannister</td>\n",
       "      <td>Clement Piper, Vance</td>\n",
       "      <td>1.0</td>\n",
       "      <td>Golden Tooth</td>\n",
       "      <td>The Westerlands</td>\n",
       "      <td>NaN</td>\n",
       "    </tr>\n",
       "    <tr>\n",
       "      <th>1</th>\n",
       "      <td>Battle at the Mummer's Ford</td>\n",
       "      <td>298</td>\n",
       "      <td>2</td>\n",
       "      <td>Joffrey/Tommen Baratheon</td>\n",
       "      <td>Robb Stark</td>\n",
       "      <td>Lannister</td>\n",
       "      <td>NaN</td>\n",
       "      <td>NaN</td>\n",
       "      <td>NaN</td>\n",
       "      <td>Baratheon</td>\n",
       "      <td>...</td>\n",
       "      <td>1.0</td>\n",
       "      <td>0.0</td>\n",
       "      <td>NaN</td>\n",
       "      <td>120.0</td>\n",
       "      <td>Gregor Clegane</td>\n",
       "      <td>Beric Dondarrion</td>\n",
       "      <td>1.0</td>\n",
       "      <td>Mummer's Ford</td>\n",
       "      <td>The Riverlands</td>\n",
       "      <td>NaN</td>\n",
       "    </tr>\n",
       "    <tr>\n",
       "      <th>2</th>\n",
       "      <td>Battle of Riverrun</td>\n",
       "      <td>298</td>\n",
       "      <td>3</td>\n",
       "      <td>Joffrey/Tommen Baratheon</td>\n",
       "      <td>Robb Stark</td>\n",
       "      <td>Lannister</td>\n",
       "      <td>NaN</td>\n",
       "      <td>NaN</td>\n",
       "      <td>NaN</td>\n",
       "      <td>Tully</td>\n",
       "      <td>...</td>\n",
       "      <td>0.0</td>\n",
       "      <td>1.0</td>\n",
       "      <td>15000.0</td>\n",
       "      <td>10000.0</td>\n",
       "      <td>Jaime Lannister, Andros Brax</td>\n",
       "      <td>Edmure Tully, Tytos Blackwood</td>\n",
       "      <td>1.0</td>\n",
       "      <td>Riverrun</td>\n",
       "      <td>The Riverlands</td>\n",
       "      <td>NaN</td>\n",
       "    </tr>\n",
       "    <tr>\n",
       "      <th>3</th>\n",
       "      <td>Battle of the Green Fork</td>\n",
       "      <td>298</td>\n",
       "      <td>4</td>\n",
       "      <td>Robb Stark</td>\n",
       "      <td>Joffrey/Tommen Baratheon</td>\n",
       "      <td>Stark</td>\n",
       "      <td>NaN</td>\n",
       "      <td>NaN</td>\n",
       "      <td>NaN</td>\n",
       "      <td>Lannister</td>\n",
       "      <td>...</td>\n",
       "      <td>1.0</td>\n",
       "      <td>1.0</td>\n",
       "      <td>18000.0</td>\n",
       "      <td>20000.0</td>\n",
       "      <td>Roose Bolton, Wylis Manderly, Medger Cerwyn, H...</td>\n",
       "      <td>Tywin Lannister, Gregor Clegane, Kevan Lannist...</td>\n",
       "      <td>1.0</td>\n",
       "      <td>Green Fork</td>\n",
       "      <td>The Riverlands</td>\n",
       "      <td>NaN</td>\n",
       "    </tr>\n",
       "    <tr>\n",
       "      <th>4</th>\n",
       "      <td>Battle of the Whispering Wood</td>\n",
       "      <td>298</td>\n",
       "      <td>5</td>\n",
       "      <td>Robb Stark</td>\n",
       "      <td>Joffrey/Tommen Baratheon</td>\n",
       "      <td>Stark</td>\n",
       "      <td>Tully</td>\n",
       "      <td>NaN</td>\n",
       "      <td>NaN</td>\n",
       "      <td>Lannister</td>\n",
       "      <td>...</td>\n",
       "      <td>1.0</td>\n",
       "      <td>1.0</td>\n",
       "      <td>1875.0</td>\n",
       "      <td>6000.0</td>\n",
       "      <td>Robb Stark, Brynden Tully</td>\n",
       "      <td>Jaime Lannister</td>\n",
       "      <td>1.0</td>\n",
       "      <td>Whispering Wood</td>\n",
       "      <td>The Riverlands</td>\n",
       "      <td>NaN</td>\n",
       "    </tr>\n",
       "  </tbody>\n",
       "</table>\n",
       "<p>5 rows × 25 columns</p>\n",
       "</div>"
      ],
      "text/plain": [
       "                            name  year  battle_number  \\\n",
       "0     Battle of the Golden Tooth   298              1   \n",
       "1    Battle at the Mummer's Ford   298              2   \n",
       "2             Battle of Riverrun   298              3   \n",
       "3       Battle of the Green Fork   298              4   \n",
       "4  Battle of the Whispering Wood   298              5   \n",
       "\n",
       "              attacker_king             defender_king attacker_1 attacker_2  \\\n",
       "0  Joffrey/Tommen Baratheon                Robb Stark  Lannister        NaN   \n",
       "1  Joffrey/Tommen Baratheon                Robb Stark  Lannister        NaN   \n",
       "2  Joffrey/Tommen Baratheon                Robb Stark  Lannister        NaN   \n",
       "3                Robb Stark  Joffrey/Tommen Baratheon      Stark        NaN   \n",
       "4                Robb Stark  Joffrey/Tommen Baratheon      Stark      Tully   \n",
       "\n",
       "  attacker_3 attacker_4 defender_1 ...  major_death  major_capture  \\\n",
       "0        NaN        NaN      Tully ...          1.0            0.0   \n",
       "1        NaN        NaN  Baratheon ...          1.0            0.0   \n",
       "2        NaN        NaN      Tully ...          0.0            1.0   \n",
       "3        NaN        NaN  Lannister ...          1.0            1.0   \n",
       "4        NaN        NaN  Lannister ...          1.0            1.0   \n",
       "\n",
       "   attacker_size defender_size  \\\n",
       "0        15000.0        4000.0   \n",
       "1            NaN         120.0   \n",
       "2        15000.0       10000.0   \n",
       "3        18000.0       20000.0   \n",
       "4         1875.0        6000.0   \n",
       "\n",
       "                                  attacker_commander  \\\n",
       "0                                    Jaime Lannister   \n",
       "1                                     Gregor Clegane   \n",
       "2                       Jaime Lannister, Andros Brax   \n",
       "3  Roose Bolton, Wylis Manderly, Medger Cerwyn, H...   \n",
       "4                          Robb Stark, Brynden Tully   \n",
       "\n",
       "                                  defender_commander  summer         location  \\\n",
       "0                               Clement Piper, Vance     1.0     Golden Tooth   \n",
       "1                                   Beric Dondarrion     1.0    Mummer's Ford   \n",
       "2                      Edmure Tully, Tytos Blackwood     1.0         Riverrun   \n",
       "3  Tywin Lannister, Gregor Clegane, Kevan Lannist...     1.0       Green Fork   \n",
       "4                                    Jaime Lannister     1.0  Whispering Wood   \n",
       "\n",
       "            region note  \n",
       "0  The Westerlands  NaN  \n",
       "1   The Riverlands  NaN  \n",
       "2   The Riverlands  NaN  \n",
       "3   The Riverlands  NaN  \n",
       "4   The Riverlands  NaN  \n",
       "\n",
       "[5 rows x 25 columns]"
      ]
     },
     "execution_count": 13,
     "metadata": {},
     "output_type": "execute_result"
    }
   ],
   "source": [
    "# TO DO: load the dataset\n",
    "df = pd.read_csv('battles.csv')\n",
    "df.head()"
   ]
  },
  {
   "cell_type": "code",
   "execution_count": 14,
   "metadata": {
    "scrolled": true
   },
   "outputs": [
    {
     "name": "stdout",
     "output_type": "stream",
     "text": [
      "<class 'pandas.core.frame.DataFrame'>\n",
      "RangeIndex: 38 entries, 0 to 37\n",
      "Data columns (total 25 columns):\n",
      "name                  38 non-null object\n",
      "year                  38 non-null int64\n",
      "battle_number         38 non-null int64\n",
      "attacker_king         36 non-null object\n",
      "defender_king         35 non-null object\n",
      "attacker_1            38 non-null object\n",
      "attacker_2            10 non-null object\n",
      "attacker_3            3 non-null object\n",
      "attacker_4            2 non-null object\n",
      "defender_1            37 non-null object\n",
      "defender_2            2 non-null object\n",
      "defender_3            0 non-null float64\n",
      "defender_4            0 non-null float64\n",
      "attacker_outcome      37 non-null object\n",
      "battle_type           37 non-null object\n",
      "major_death           37 non-null float64\n",
      "major_capture         37 non-null float64\n",
      "attacker_size         24 non-null float64\n",
      "defender_size         19 non-null float64\n",
      "attacker_commander    37 non-null object\n",
      "defender_commander    28 non-null object\n",
      "summer                37 non-null float64\n",
      "location              37 non-null object\n",
      "region                38 non-null object\n",
      "note                  5 non-null object\n",
      "dtypes: float64(7), int64(2), object(16)\n",
      "memory usage: 7.5+ KB\n"
     ]
    },
    {
     "data": {
      "text/plain": [
       "0     False\n",
       "1     False\n",
       "2     False\n",
       "3     False\n",
       "4     False\n",
       "5     False\n",
       "6     False\n",
       "7     False\n",
       "8     False\n",
       "9     False\n",
       "10    False\n",
       "11    False\n",
       "12    False\n",
       "13    False\n",
       "14    False\n",
       "15    False\n",
       "16    False\n",
       "17    False\n",
       "18    False\n",
       "19    False\n",
       "20    False\n",
       "21    False\n",
       "22    False\n",
       "23    False\n",
       "24    False\n",
       "25    False\n",
       "26    False\n",
       "27    False\n",
       "28    False\n",
       "29    False\n",
       "30    False\n",
       "31    False\n",
       "32    False\n",
       "33    False\n",
       "34    False\n",
       "35    False\n",
       "36    False\n",
       "37    False\n",
       "dtype: bool"
      ]
     },
     "execution_count": 14,
     "metadata": {},
     "output_type": "execute_result"
    }
   ],
   "source": [
    "# TO DO: check the dataset general info\n",
    "df.info()          # check the total number of row\n",
    "df.duplicated()    # check whether duplicated or not"
   ]
  },
  {
   "cell_type": "code",
   "execution_count": 71,
   "metadata": {},
   "outputs": [
    {
     "name": "stdout",
     "output_type": "stream",
     "text": [
      "<class 'pandas.core.frame.DataFrame'>\n",
      "Int64Index: 36 entries, 0 to 36\n",
      "Data columns (total 25 columns):\n",
      "name                  36 non-null object\n",
      "year                  36 non-null int64\n",
      "battle_number         36 non-null int64\n",
      "attacker_king         34 non-null object\n",
      "defender_king         33 non-null object\n",
      "attacker_1            36 non-null object\n",
      "attacker_2            9 non-null object\n",
      "attacker_3            2 non-null object\n",
      "attacker_4            1 non-null object\n",
      "defender_1            35 non-null object\n",
      "defender_2            1 non-null object\n",
      "defender_3            0 non-null float64\n",
      "defender_4            0 non-null float64\n",
      "attacker_outcome      36 non-null object\n",
      "battle_type           36 non-null object\n",
      "major_death           36 non-null float64\n",
      "major_capture         36 non-null float64\n",
      "attacker_size         36 non-null float64\n",
      "defender_size         36 non-null float64\n",
      "attacker_commander    35 non-null object\n",
      "defender_commander    26 non-null object\n",
      "summer                36 non-null float64\n",
      "location              35 non-null object\n",
      "region                36 non-null object\n",
      "note                  5 non-null object\n",
      "dtypes: float64(7), int64(2), object(16)\n",
      "memory usage: 7.3+ KB\n"
     ]
    }
   ],
   "source": [
    "# TO DO: clean the data (optional: only there are problems)\n",
    "df.dropna(subset=['attacker_outcome', 'summer'], inplace=True)   # drop missing attacker_outcome and summer rows\n",
    "a_size = df['attacker_size'].mean()                              # calculate the mean of attacker_size\n",
    "df['attacker_size'] = df['attacker_size'].fillna(a_size)         # fill the missing attacker_size with the mean\n",
    "d_size = df['defender_size'].mean()                              # calculate the mean of defender_size\n",
    "df['defender_size'] = df['defender_size'].fillna(d_size)         # fill the missing defender_size with the mean\n",
    "df.info()"
   ]
  },
  {
   "cell_type": "markdown",
   "metadata": {},
   "source": [
    "## Exploratory data analysis"
   ]
  },
  {
   "cell_type": "code",
   "execution_count": 48,
   "metadata": {},
   "outputs": [
    {
     "data": {
      "image/png": "[encoded data removed]",
      "text/plain": [
       "<Figure size 432x432 with 1 Axes>"
      ]
     },
     "metadata": {},
     "output_type": "display_data"
    }
   ],
   "source": [
    "# In exploratory data analysis, please make sure of using statistics and visualizations\n",
    "\n",
    "# Analyse the king who wins the most victories\n",
    "df_win = df[df['attacker_outcome'] == 'win']                            # Selecting all win battles\n",
    "df_win['attacker_king'].value_counts().plot(kind='pie', figsize=(6,6)); # Generating the graph"
   ]
  },
  {
   "cell_type": "markdown",
   "metadata": {},
   "source": [
    "The subset of all victory battles are selected from the dataset. From the pie chart above, it is clear that King Joffrey/Tommen Baratheon wins the most victories since blue (Joffrey/Tommen Baratheon) accounts for the largest portion of the pie chart."
   ]
  },
  {
   "cell_type": "code",
   "execution_count": 53,
   "metadata": {},
   "outputs": [
    {
     "data": {
      "image/png": "[encoded data removed]",
      "text/plain": [
       "<Figure size 432x432 with 1 Axes>"
      ]
     },
     "metadata": {},
     "output_type": "display_data"
    }
   ],
   "source": [
    "# Analyse the region where had the most battles\n",
    "df['region'].value_counts().plot(kind='bar', figsize=(6,6)); \n",
    "  # Generating the graph by counting different values in Region column"
   ]
  },
  {
   "cell_type": "markdown",
   "metadata": {},
   "source": [
    "Simply graphing the number of differcent regions which exists in the dataset, we can clearly see that most battles take place in The Riverlands."
   ]
  },
  {
   "cell_type": "code",
   "execution_count": 104,
   "metadata": {},
   "outputs": [
    {
     "data": {
      "image/png": "[encoded data removed]",
      "text/plain": [
       "<Figure size 720x720 with 4 Axes>"
      ]
     },
     "metadata": {},
     "output_type": "display_data"
    }
   ],
   "source": [
    "# Analyse the factors that lead to victory\n",
    "factors = ['attacker_size', 'defender_size', 'summer']    # Possible factors\n",
    "df_win.hist(column=factors, figsize=(10,10), bins=3);     # Generating histogram from the subset of win battles"
   ]
  },
  {
   "cell_type": "markdown",
   "metadata": {},
   "source": [
    "At the beginning of this step, \"attacker_size\", \"denfender_size\", and \"summer\" are the possible factors which lead to the victory. From the histogram generated from the subset of win battles, \"attacker_size\" is not a key to win since win battles have both small and large size of attackers. However, victories do relate to the \"defender_size\" of enermy. It is clearly to see that win battles normally have small number of enemy to defend. Suprisingly, vicotries have some relations with the season of summer. Approximate one third of the victories happened in summer. Thus, summer is a factor to the success of battle."
   ]
  },
  {
   "cell_type": "markdown",
   "metadata": {},
   "source": [
    "When performing exploratory data analysis, please make sure you record your key steps and reasoning processes during the data analysis. You can insert code cells and markdown cells to organize your report. \n"
   ]
  },
  {
   "cell_type": "markdown",
   "metadata": {},
   "source": [
    "## Draw conclusions\n",
    "\n",
    "**Question**: Can the aforesaid analysis answer the question you have set? What conclusions can you draw from the analysis? \n",
    "\n",
    "**Answer**: \n",
    "  All the questions I set can be answered from the given dataset. From the sample of data, Joffrey/Thommen Baratheon is the king who won the most battles, and most battles happened in the region of The Riverlands. The number of enemy is a key to victories. However, the number of attacker is relatively unimportant to win the battles. Setting more number of defenders can help to win the battles. Another factor is season. Since most win battles are in summer, it reasonable to consider summer as a factor to success. \n"
   ]
  },
  {
   "cell_type": "markdown",
   "metadata": {},
   "source": [
    "## Further Reflections\n",
    "\n",
    "**Question**: Is your logic rigorous during your analysis and summary? Is there any space for further improvement?  You can think about these questions from the following perspectives: \n",
    "1. Is the dataset integral? Does it contain all data you want to analyze? \n",
    "2. May your operation (for example, delete/fill missing values) influence your conclusion during data process? \n",
    "3. Are there any other variables (which are not contained in the dataset) to help your analysis? \n",
    "4. Have you mixed correlation and causality when drawing a conclusion? \n",
    "\n",
    "**Answer**: \n",
    "  Although the sample space is quite small in this dataset, it has all neccessary information I want to analyze. I am lack of dealing with missing data in cleaning data step. I used deletion missing string and filling missing numeric value by mean value to deal with the missing data. It may not influence my conclusion in the first two questions since the sum is significantly higher than the others in my first two question. The last question I set is somewhat affected, because I filled it with mean value. It might have some deviation compared with correct value. I tried to mix the correlation and causality, but mostly it is based on data. Actually, I am not sure whether I should include some personal views in the conclusion. Also, I am unsure whether I should clean all data or just the data I need to use.\n",
    "\n"
   ]
  },
  {
   "cell_type": "markdown",
   "metadata": {},
   "source": [
    "Congratulate you on finishing this project! This is only a sample of the data analysis process: Generate questions, analyze data, explore data and draw a conclusion. When proceeding with a manometer degree of data analysis (advanced), you will learn more advanced data analysis methods and technologies. If you are interested, we encourage you to proceed with subsequent courses and master more advanced data analysis skills! \n",
    "\n",
    "\n",
    "> **Tip**: If we want to share the results of our analysis with others, we aren't limited to giving them a copy of the jupyter Notebook (.ipynb) file. We can also export the Notebook output in a form that can be opened even for those without Python installed. From the **File** menu in the upper left, go to the **Download as** submenu. You can then choose a different format that can be viewed more generally, such as HTML (.html) or\n",
    "PDF (.pdf). You may need additional packages or software to perform these exports."
   ]
  }
 ],
 "metadata": {
  "kernelspec": {
   "display_name": "Python 3",
   "language": "python",
   "name": "python3"
  },
  "language_info": {
   "codemirror_mode": {
    "name": "ipython",
    "version": 3
   },
   "file_extension": ".py",
   "mimetype": "text/x-python",
   "name": "python",
   "nbconvert_exporter": "python",
   "pygments_lexer": "ipython3",
   "version": "3.6.3"
  }
 },
 "nbformat": 4,
 "nbformat_minor": 2
}
